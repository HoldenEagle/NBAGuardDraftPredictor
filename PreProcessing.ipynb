{
 "cells": [
  {
   "cell_type": "code",
   "execution_count": 1,
   "id": "ab94c22a-9ede-4b1b-9caa-b7db6714e59d",
   "metadata": {},
   "outputs": [
    {
     "name": "stdout",
     "output_type": "stream",
     "text": [
      "       player_name           team conf  GP  Min_per   Ortg   usg   eFG  \\\n",
      "0    DeAndrae Ross  South Alabama   SB  26     29.5   97.3  16.6  42.5   \n",
      "1    Pooh Williams       Utah St.  WAC  34     60.9  108.3  14.9  52.4   \n",
      "2    Jesus Verdejo  South Florida   BE  27     72.0   96.2  21.8  45.7   \n",
      "3  Mike Hornbuckle     Pepperdine  WCC  30     44.5   97.7  16.0  53.6   \n",
      "4    Anthony Brown        Pacific   BW  33     56.2   96.5  22.0  52.8   \n",
      "\n",
      "   TS_per  ORB_per  ...     dgbpm    oreb    dreb    treb     ast     stl  \\\n",
      "0   44.43      1.6  ... -1.941150  0.1923  0.6154  0.8077  1.1923  0.3462   \n",
      "1   54.48      3.8  ... -0.247934  0.6765  1.2647  1.9412  1.8235  0.4118   \n",
      "2   47.98      2.1  ... -0.883163  0.6296  2.3333  2.9630  1.9630  0.4815   \n",
      "3   53.69      4.1  ... -0.393459  0.7000  1.4333  2.1333  1.1000  0.5667   \n",
      "4   54.31      8.3  ... -0.668318  1.4242  3.3030  4.7273  0.8485  0.4545   \n",
      "\n",
      "      blk      pts  Unnamed: 64  Unnamed: 65  \n",
      "0  0.0385   3.8846          NaN      6.22026  \n",
      "1  0.2353   5.9412          NaN      3.94375  \n",
      "2  0.0000  12.1852          NaN     10.92680  \n",
      "3  0.1333   4.9333          NaN      6.77427  \n",
      "4  0.3333   7.5758          NaN      0.00000  \n",
      "\n",
      "[5 rows x 66 columns]\n"
     ]
    },
    {
     "name": "stderr",
     "output_type": "stream",
     "text": [
      "C:\\Users\\holde\\AppData\\Local\\Temp\\ipykernel_20912\\3378219128.py:3: DtypeWarning: Columns (27) have mixed types. Specify dtype option on import or set low_memory=False.\n",
      "  ncaa_df = pd.read_csv(\"CollegeBasketballPlayers2009-2021.csv\")\n"
     ]
    }
   ],
   "source": [
    "#read in dataframe\n",
    "import pandas as pd\n",
    "\n",
    "ncaa_df = pd.read_csv(\"CollegeBasketballPlayers2009-2021.csv\")\n",
    "print(ncaa_df.head())"
   ]
  },
  {
   "cell_type": "code",
   "execution_count": 2,
   "id": "d5afaf31-1807-4c32-86b2-a128589829fc",
   "metadata": {},
   "outputs": [],
   "source": [
    "#label encode the team\n",
    "from sklearn.preprocessing import LabelEncoder\n",
    "le = LabelEncoder()\n",
    "ncaa_df['team_encoded'] = le.fit_transform(ncaa_df['team'])"
   ]
  },
  {
   "cell_type": "code",
   "execution_count": 3,
   "id": "573aefe9-df6b-469a-81a8-1d66df91fab8",
   "metadata": {},
   "outputs": [
    {
     "name": "stdout",
     "output_type": "stream",
     "text": [
      "       conf  conf_encoded\n",
      "0        SB           8.0\n",
      "1       WAC           8.0\n",
      "2        BE           6.0\n",
      "3       WCC           7.0\n",
      "4        BW           8.0\n",
      "...     ...           ...\n",
      "61056    BE           6.0\n",
      "61057  Slnd           8.0\n",
      "61058  Amer           8.0\n",
      "61059   B12           4.0\n",
      "61060   B10           3.0\n",
      "\n",
      "[61061 rows x 2 columns]\n"
     ]
    }
   ],
   "source": [
    "#label encode the conference\n",
    "conference_rating = {\n",
    "    'ACC':1,\n",
    "    'SEC':2,\n",
    "    'B10':3,\n",
    "    'B12':4,\n",
    "    'P12':5,\n",
    "    'BE':6,\n",
    "    'WCC':7\n",
    "}\n",
    "ncaa_df['conf_encoded'] = ncaa_df['conf'].map(conference_rating)\n",
    "ncaa_df['conf_encoded'].fillna(8, inplace=True)\n",
    "print(ncaa_df[['conf' , 'conf_encoded']])\n"
   ]
  },
  {
   "cell_type": "code",
   "execution_count": 4,
   "id": "8c30ffb5-a531-46d7-8f8e-a01ed9f3da19",
   "metadata": {},
   "outputs": [
    {
     "name": "stdout",
     "output_type": "stream",
     "text": [
      "['So' 'Sr' 'Jr' 'Fr' '0' nan '57.1' '42.9']\n",
      "       yr  yr_encoded\n",
      "0      So         2.0\n",
      "1      So         2.0\n",
      "2      Sr         4.0\n",
      "3      Sr         4.0\n",
      "4      Sr         4.0\n",
      "...    ..         ...\n",
      "61056  Fr         1.0\n",
      "61057  Fr         1.0\n",
      "61058  Fr         1.0\n",
      "61059  Fr         1.0\n",
      "61060  Fr         1.0\n",
      "\n",
      "[61061 rows x 2 columns]\n"
     ]
    }
   ],
   "source": [
    "#label encode the yr\n",
    "print(ncaa_df['yr'].unique())\n",
    "year_encoding = {\n",
    "    'Fr':1,\n",
    "    'So':2,\n",
    "    'Jr':3,\n",
    "    'Sr':4,\n",
    "}\n",
    "ncaa_df['yr_encoded'] = ncaa_df['yr'].map(year_encoding)\n",
    "ncaa_df['yr_encoded'].fillna(8, inplace=True)\n",
    "print(ncaa_df[['yr' , 'yr_encoded']])\n"
   ]
  },
  {
   "cell_type": "code",
   "execution_count": 5,
   "id": "e66d5c20-2f37-4565-ae08-464f7bfa52e7",
   "metadata": {},
   "outputs": [],
   "source": [
    "#replace RecRank so that non ranked recruits are marked\n",
    "#print(ncaa_df['Rec Rank'].unique())\n",
    "#filtered_rows = ncaa_df[ncaa_df['Rec Rank'] >= 99]\n",
    "ncaa_df['Rec Rank'].fillna(0, inplace = True)"
   ]
  },
  {
   "cell_type": "code",
   "execution_count": 6,
   "id": "f7738f5f-77cd-48c1-986d-0c3879006577",
   "metadata": {},
   "outputs": [
    {
     "name": "stdout",
     "output_type": "stream",
     "text": [
      "['2-Jun' '4-Jun' '8-Jun' '1-Jun' '5-Jun' 'Jun-00' '6-Jun' '9-Jun' '3-Jun'\n",
      " '11-Jun' '7-Jun' '10-May' '10-Jun' '11-May' '9-May' 'Jul-00' '7-May'\n",
      " '5-Jul' '8-May' '6-May' '2-Jul' '1-Jul' '-' '3-May' '3-Jul' 'Apr-00'\n",
      " '5-May' '4-Jul' nan 'So' 'Jr' 'Fr' \"6'4\" '4-May' '0' '1-May' '6-Jul'\n",
      " '5-Apr' '2-May']\n"
     ]
    },
    {
     "data": {
      "text/plain": [
       "0    74.0\n",
       "1    76.0\n",
       "2    76.0\n",
       "3    76.0\n",
       "4    80.0\n",
       "Name: ht_encoded, dtype: float64"
      ]
     },
     "execution_count": 6,
     "metadata": {},
     "output_type": "execute_result"
    }
   ],
   "source": [
    "#fix the height column\n",
    "print(ncaa_df['ht'].unique())\n",
    "height_adjusting = {\n",
    "    '2-Jun':74,\n",
    "    '4-Jun':76,\n",
    "    '8-Jun':80,\n",
    "    '1-Jun':73,\n",
    "    '5-Jun':77,\n",
    "    'Jun-00':72,\n",
    "    '6-Jun':78,\n",
    "    '9-Jun':81,\n",
    "    '3-Jun':75,\n",
    "    '11-Jun':83,\n",
    "    '7-Jun':79,\n",
    "    '10-May':70,\n",
    "    '10-Jun':82,\n",
    "    '11-May':71,\n",
    "    '9-May':69,\n",
    "    'Jul-00':84,\n",
    "    '7-May':67,\n",
    "    '5-Jul':89,\n",
    "    '8-May':68,\n",
    "    '6-May':66,\n",
    "    '2-Jul': 86,\n",
    "    '3-May': 63,\n",
    "    '3-Jul':87,\n",
    "    '5-May':65,\n",
    "    '4-Jul':87,\n",
    "    \"6'4\": 76,\n",
    "    '4-May': 64,\n",
    "    '1-May':61,\n",
    "    '6-Jul': 90,\n",
    "    '2-May': 62\n",
    "}\n",
    "ncaa_df['ht_encoded'] = ncaa_df['ht'].map(height_adjusting)\n",
    "ncaa_df = ncaa_df.dropna(subset = ['ht_encoded'])\n",
    "ncaa_df['ht_encoded'].head()"
   ]
  },
  {
   "cell_type": "code",
   "execution_count": 7,
   "id": "3e6e1095-3717-48f7-a3a2-038e48d6e2ef",
   "metadata": {},
   "outputs": [],
   "source": [
    "#fill a bunch of values with 0\n",
    "ncaa_df['ast/tov'].fillna(0, inplace = True)\n",
    "ncaa_df['rimmade'].fillna(0, inplace = True)\n",
    "ncaa_df['rimmade+rimmiss'].fillna(0, inplace = True)\n",
    "ncaa_df['midmade'].fillna(0, inplace = True)\n",
    "ncaa_df['midmade+midmiss'].fillna(0, inplace = True)\n",
    "ncaa_df['rimmade/(rimmade+rimmiss)'].fillna(0, inplace = True)\n",
    "ncaa_df['midmade/(midmade+midmiss)'].fillna(0, inplace = True)\n",
    "ncaa_df['dunksmade'].fillna(0, inplace = True)\n",
    "ncaa_df['dunksmiss+dunksmade'].fillna(0, inplace= True)\n",
    "ncaa_df['dunksmade/(dunksmade+dunksmiss)'].fillna(0, inplace = True)\n",
    "ncaa_df['stops'].fillna(0, inplace = True)\n",
    "ncaa_df['ast'].fillna(0, inplace = True)\n",
    "ncaa_df['stl'].fillna(0, inplace = True)\n",
    "ncaa_df['blk'].fillna(0, inplace = True)\n",
    "ncaa_df['pts'].fillna(0, inplace = True)"
   ]
  },
  {
   "cell_type": "code",
   "execution_count": 8,
   "id": "12b6d82f-72ce-40ef-9acb-ad681fed2337",
   "metadata": {},
   "outputs": [],
   "source": [
    "#change picks, we'll start with this for now\n",
    "ncaa_df['got_drafted'] = ncaa_df['pick'].notna().astype(int)\n",
    "\n"
   ]
  },
  {
   "cell_type": "code",
   "execution_count": 9,
   "id": "5f8852bb-efa8-4bf7-9ca0-f0332da8ec95",
   "metadata": {},
   "outputs": [
    {
     "name": "stdout",
     "output_type": "stream",
     "text": [
      "[nan 'Combo G' 'Pure PG' 'Wing F' 'PF/C' 'Wing G' 'C' 'Stretch 4'\n",
      " 'Scoring PG']\n"
     ]
    }
   ],
   "source": [
    "#last part, role/position\n",
    "ncaa_df.rename(columns={ncaa_df.columns[64]: 'Role/Position'}, inplace=True)\n",
    "print(ncaa_df.iloc[:, 64].unique())\n",
    "\n",
    "def label_row(row):\n",
    "    if pd.isna(row['Role/Position']):\n",
    "        if row['ht_encoded'] < 74:\n",
    "            return 'Pure PG'\n",
    "        elif row['ht_encoded'] < 76:\n",
    "            return 'Combo G'\n",
    "        elif row['ht_encoded'] < 79:\n",
    "            return 'Wing G'\n",
    "        elif row['ht_encoded'] < 81:\n",
    "            return 'Wing F'\n",
    "        elif row['ht_encoded'] < 83:\n",
    "            return 'PF/C'\n",
    "        else:\n",
    "            return 'C'\n",
    "    else:\n",
    "        return row['Role/Position']\n",
    "\n",
    "ncaa_df['Role/Position'] = ncaa_df.apply(label_row, axis=1)\n",
    "\n",
    "role_adjusting = {\n",
    "    'Pure PG': 1,\n",
    "    'Scoring PG':2,\n",
    "    'Combo G': 3,\n",
    "    'Wing G': 4,\n",
    "    'Wing F': 5,\n",
    "    'Stretch 4': 6,\n",
    "    'PF/C':7,\n",
    "    'C': 8\n",
    "}\n",
    "ncaa_df['Role/Position_encoded'] = ncaa_df['Role/Position'].map(role_adjusting)"
   ]
  },
  {
   "cell_type": "code",
   "execution_count": 10,
   "id": "22e5a41f-259e-4d13-9728-ce32b58849f6",
   "metadata": {},
   "outputs": [
    {
     "data": {
      "text/plain": [
       "0     Combo G\n",
       "1      Wing G\n",
       "2      Wing G\n",
       "3      Wing G\n",
       "4      Wing F\n",
       "5     Pure PG\n",
       "6      Wing G\n",
       "7     Pure PG\n",
       "8      Wing G\n",
       "9      Wing G\n",
       "10     Wing F\n",
       "11     Wing G\n",
       "12     Wing G\n",
       "13       PF/C\n",
       "14     Wing G\n",
       "15     Wing G\n",
       "16    Combo G\n",
       "17     Wing G\n",
       "18     Wing G\n",
       "19       PF/C\n",
       "Name: Role/Position, dtype: object"
      ]
     },
     "execution_count": 10,
     "metadata": {},
     "output_type": "execute_result"
    }
   ],
   "source": [
    "ncaa_df['Role/Position'].head(20)"
   ]
  },
  {
   "cell_type": "code",
   "execution_count": 11,
   "id": "dcafa949-24e5-48a8-a399-464959a8a5a0",
   "metadata": {},
   "outputs": [
    {
     "name": "stdout",
     "output_type": "stream",
     "text": [
      "Index(['player_name', 'team', 'conf', 'GP', 'Min_per', 'Ortg', 'usg', 'eFG',\n",
      "       'TS_per', 'ORB_per', 'DRB_per', 'AST_per', 'TO_per', 'FTM', 'FTA',\n",
      "       'FT_per', 'twoPM', 'twoPA', 'twoP_per', 'TPM', 'TPA', 'TP_per',\n",
      "       'blk_per', 'stl_per', 'ftr', 'yr', 'ht', 'num', 'porpag', 'adjoe',\n",
      "       'pfr', 'year', 'pid', 'type', 'Rec Rank', 'ast/tov', 'rimmade',\n",
      "       'rimmade+rimmiss', 'midmade', 'midmade+midmiss',\n",
      "       'rimmade/(rimmade+rimmiss)', 'midmade/(midmade+midmiss)', 'dunksmade',\n",
      "       'dunksmiss+dunksmade', 'dunksmade/(dunksmade+dunksmiss)', 'pick',\n",
      "       'drtg', 'adrtg', 'dporpag', 'stops', 'bpm', 'obpm', 'dbpm', 'gbpm',\n",
      "       'mp', 'ogbpm', 'dgbpm', 'oreb', 'dreb', 'treb', 'ast', 'stl', 'blk',\n",
      "       'pts', 'Role/Position', 'Unnamed: 65', 'team_encoded', 'conf_encoded',\n",
      "       'yr_encoded', 'ht_encoded', 'got_drafted', 'Role/Position_encoded'],\n",
      "      dtype='object')\n"
     ]
    }
   ],
   "source": [
    "#ncaa_df to csv\n",
    "print(ncaa_df.columns)\n",
    "#ncaa_df.to_csv('NCAA_Stats_Preprocessed.csv' , index = False)"
   ]
  },
  {
   "cell_type": "code",
   "execution_count": 12,
   "id": "94ff1970-5c5e-40ad-8e29-b28f0dba4c6f",
   "metadata": {},
   "outputs": [
    {
     "name": "stdout",
     "output_type": "stream",
     "text": [
      "0    So\n",
      "1    So\n",
      "2    Sr\n",
      "3    Sr\n",
      "4    Sr\n",
      "Name: yr, dtype: object\n"
     ]
    },
    {
     "data": {
      "text/plain": [
       "0    2009\n",
       "1    2009\n",
       "2    2009\n",
       "3    2009\n",
       "4    2009\n",
       "Name: year, dtype: int64"
      ]
     },
     "execution_count": 12,
     "metadata": {},
     "output_type": "execute_result"
    }
   ],
   "source": [
    "#get the drafted_that_year_label\n",
    "print(ncaa_df['yr'].head())\n",
    "ncaa_df['year'].head()"
   ]
  },
  {
   "cell_type": "code",
   "execution_count": 13,
   "id": "b890bd86-c82b-4e70-abbd-1bd23ed6ae3b",
   "metadata": {},
   "outputs": [],
   "source": [
    "#make column label to see if the player was drafted that year\n",
    "ncaa_df['Drafted_that_year'] = 0\n",
    "\n",
    "def find_value(row):\n",
    "    player_sub_df = ncaa_df[(ncaa_df['player_name'] == row['player_name']) & (ncaa_df['got_drafted'] == 1)]\n",
    "    if len(player_sub_df) == 0:\n",
    "        return 0\n",
    "    players_college_years = player_sub_df['year']\n",
    "    players_last_year = players_college_years.max()\n",
    "    if(players_last_year == row['year']):\n",
    "        return 1\n",
    "    else:\n",
    "        return 0\n",
    "\n",
    "ncaa_df['Drafted_that_year'] = ncaa_df.apply(find_value, axis=1)\n",
    "    "
   ]
  },
  {
   "cell_type": "code",
   "execution_count": 14,
   "id": "2a341009-77c1-4dd4-84d8-8c7814d744f5",
   "metadata": {},
   "outputs": [],
   "source": [
    "#save csv file for later models \n",
    "ncaa_df.to_csv('NCAA_Stats_Preprocessed.csv' , index = False)"
   ]
  },
  {
   "cell_type": "code",
   "execution_count": 17,
   "id": "a500f8ab-0edc-4f4b-9097-dc7653591278",
   "metadata": {},
   "outputs": [
    {
     "name": "stdout",
     "output_type": "stream",
     "text": [
      "       player_name  got_drafted  year  Drafted_that_year\n",
      "102   Kyle Singler            1  2009                  0\n",
      "4649  Kyle Singler            1  2010                  0\n",
      "9312  Kyle Singler            1  2011                  1\n"
     ]
    }
   ],
   "source": [
    "#testing the Drafted that year columng\n",
    "test_df = ncaa_df[ncaa_df['got_drafted'] == 1]\n",
    "kyle_df = test_df[test_df['player_name'] == 'Kyle Singler']\n",
    "print(kyle_df[['player_name' , 'got_drafted', 'year' , 'Drafted_that_year']].head(20))"
   ]
  },
  {
   "cell_type": "code",
   "execution_count": null,
   "id": "923c050c-3fbe-49bd-a027-cf0f6ead2114",
   "metadata": {},
   "outputs": [],
   "source": []
  }
 ],
 "metadata": {
  "kernelspec": {
   "display_name": "Python 3 (ipykernel)",
   "language": "python",
   "name": "python3"
  },
  "language_info": {
   "codemirror_mode": {
    "name": "ipython",
    "version": 3
   },
   "file_extension": ".py",
   "mimetype": "text/x-python",
   "name": "python",
   "nbconvert_exporter": "python",
   "pygments_lexer": "ipython3",
   "version": "3.11.7"
  }
 },
 "nbformat": 4,
 "nbformat_minor": 5
}
